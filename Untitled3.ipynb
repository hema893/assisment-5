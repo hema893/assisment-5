{
 "cells": [
  {
   "cell_type": "markdown",
   "id": "751574ac-fd7b-48f0-8d7a-039b2700bd06",
   "metadata": {},
   "source": [
    "FILES, EXCEPTIONAL HANDLING, LOGGING AND MEMORY MANAGEMENT QUESTION"
   ]
  },
  {
   "cell_type": "raw",
   "id": "ed589d49-16d9-4165-ab33-3429046f17a6",
   "metadata": {},
   "source": [
    "01.What is the difference between interpreted and compiled languages?"
   ]
  },
  {
   "cell_type": "code",
   "execution_count": null,
   "id": "f73287ff-c4dc-4692-9310-0efebbba8bd6",
   "metadata": {},
   "outputs": [],
   "source": [
    "Compiled languages translate the whole program into machine code before running it. They are faster but need compiling first.\n",
    "Examples: C, C++\n",
    "\n",
    "Interpreted languages translate and run the code line by line during execution. They are slower but easier to test and debug.\n",
    "Examples: Python, JavaScript"
   ]
  },
  {
   "cell_type": "raw",
   "id": "d1a07b46-651f-49bb-afd5-636e422f5016",
   "metadata": {},
   "source": [
    "02.What is exception handling in python?"
   ]
  },
  {
   "cell_type": "code",
   "execution_count": null,
   "id": "957e3a4e-4595-4a2c-a6d2-2ff3b89d633d",
   "metadata": {},
   "outputs": [],
   "source": [
    "Exception handling in Python is a way to handle errors during program execution using try, except, else, and finally blocks. It helps prevent crashes\n",
    " and allow gracefull error recovery."
   ]
  },
  {
   "cell_type": "raw",
   "id": "8746384e-dbed-4e69-9a9d-fd775125aed6",
   "metadata": {},
   "source": [
    "03.What is the purpose of the finally block in expection handling?"
   ]
  },
  {
   "cell_type": "code",
   "execution_count": null,
   "id": "a75f5991-a091-48f0-945f-da5ff2acfa13",
   "metadata": {},
   "outputs": [],
   "source": [
    "The finally block is used to execute code regardless of whether an exception occurred or not. It's typically used for cleanup actions like closing files\n",
    "or realsing resource."
   ]
  },
  {
   "cell_type": "raw",
   "id": "06084e1f-d420-4a81-aa63-d3266ca9570a",
   "metadata": {},
   "source": [
    "04.What is logging python?"
   ]
  },
  {
   "cell_type": "code",
   "execution_count": null,
   "id": "15fec015-e32d-422c-97ad-ad0e421538da",
   "metadata": {},
   "outputs": [],
   "source": [
    "Logging in Python is a way to track events that happen when a program runs. It helps with debugging and monitoring by recording messages (like errors or status updates) to the console or a file using the built-in logging module."
   ]
  },
  {
   "cell_type": "raw",
   "id": "add5cd16-0a4f-402b-a521-721a24923991",
   "metadata": {},
   "source": [
    "05.What is the significance of the _ _del_ _method in python?"
   ]
  },
  {
   "cell_type": "code",
   "execution_count": null,
   "id": "4527dff8-9a72-4aa9-a626-0e2fe8b0051b",
   "metadata": {},
   "outputs": [],
   "source": [
    "The __del__ method in Python is a destructor that is called when an object is about to be destroyed. It is used to clean up resources like closing files or network connections."
   ]
  },
  {
   "cell_type": "raw",
   "id": "b7a79070-079b-4469-b19f-033d99bfce3b",
   "metadata": {},
   "source": [
    "06.What is the difference between import and from ...import in python?"
   ]
  },
  {
   "cell_type": "code",
   "execution_count": null,
   "id": "f82c6486-a9e2-4b0f-8844-a45ac9159292",
   "metadata": {},
   "outputs": [],
   "source": [
    "import loads the whole module, while from ... import loads specific parts (like functions or classes) from a module."
   ]
  },
  {
   "cell_type": "raw",
   "id": "8726402c-94d4-4da4-b82e-7564117cfd68",
   "metadata": {},
   "source": [
    "07.How can you handle expectations in python ?"
   ]
  },
  {
   "cell_type": "code",
   "execution_count": null,
   "id": "51366d65-3056-42ff-823d-83f3393e1d85",
   "metadata": {},
   "outputs": [],
   "source": [
    "You can handle exceptions in Python using try, except, else, and finally blocks. This helps prevent program crashes and manage errors gracefully.\n",
    "\n",
    "try:\n",
    "    x = 10 / 0\n",
    "except ZeroDivisionError:\n",
    "    print(\"Cannot divide by zero\")\n"
   ]
  },
  {
   "cell_type": "code",
   "execution_count": null,
   "id": "3e47934f-0461-451a-b0d9-5c80088314a7",
   "metadata": {},
   "outputs": [],
   "source": [
    "08.What is the purpose  of the with statment when handling files in python?"
   ]
  },
  {
   "cell_type": "code",
   "execution_count": null,
   "id": "8fd16118-54d3-403b-bce3-ca6fa7b72c80",
   "metadata": {},
   "outputs": [],
   "source": [
    "The with statement is used to handle files in Python to ensure proper resource management. It automatically closes the file after the block is executed, even if an error occurs.\n",
    "with open('file.txt', 'r') as f:\n",
    "    data = f.read()"
   ]
  },
  {
   "cell_type": "raw",
   "id": "82c060d4-c328-4ca2-a0b2-5bf1133b33c1",
   "metadata": {},
   "source": [
    "09. What is the difference between multithreading and multiprocessing?"
   ]
  },
  {
   "cell_type": "code",
   "execution_count": null,
   "id": "13972ba4-d4b0-4bfd-aec0-27de032bf9ac",
   "metadata": {},
   "outputs": [],
   "source": [
    "Multithreading runs multiple threads in a single process (sharing memory), ideal for I/O tasks.\n",
    "Multiprocessing runs multiple processes (with separate memory), better for CPU-bound tasks."
   ]
  },
  {
   "cell_type": "code",
   "execution_count": null,
   "id": "327f8443-4a28-4263-b237-0d50b96902e7",
   "metadata": {},
   "outputs": [],
   "source": [
    "10.What are advantages of using logging in a program?"
   ]
  },
  {
   "cell_type": "code",
   "execution_count": null,
   "id": "0e0fac41-e192-44cd-9c80-497ec6f3ae61",
   "metadata": {},
   "outputs": [],
   "source": [
    "Logging helps in tracking events, debugging, monitoring errors, and understanding program flow without using print statements. It also allows saving logs to files for later analysis."
   ]
  },
  {
   "cell_type": "code",
   "execution_count": null,
   "id": "803487f2-364e-4051-bea6-bd3501b95a7b",
   "metadata": {},
   "outputs": [],
   "source": [
    "11. What is memory managment in python?"
   ]
  },
  {
   "cell_type": "code",
   "execution_count": null,
   "id": "39886bed-6271-471b-a6c5-6261293d2805",
   "metadata": {},
   "outputs": [],
   "source": [
    "Memory management in Python involves allocating and freeing memory during program execution. It uses a private heap, automatic garbage collection, and reference counting to manage memory efficiently."
   ]
  },
  {
   "cell_type": "code",
   "execution_count": null,
   "id": "48ad44ea-54f6-4e8c-99bd-762acb901d20",
   "metadata": {},
   "outputs": [],
   "source": [
    "12. What are the basic steps involved in expection handling in python?"
   ]
  },
  {
   "cell_type": "code",
   "execution_count": null,
   "id": "2e32b97b-77d0-4953-8955-c4c0495d095c",
   "metadata": {},
   "outputs": [],
   "source": [
    "The basic steps in exception handling in Python are:\n",
    "\n",
    "Try: Write code that may cause an exception.\n",
    "\n",
    "Except: Handle the exception if it occurs.\n",
    "\n",
    "Else (optional): Run code if no exception occurs.\n",
    "\n",
    "Finally (optional): Run code no matter what, for cleanup.\n"
   ]
  },
  {
   "cell_type": "code",
   "execution_count": null,
   "id": "fc35734f-f5fe-4b41-b168-096be43c2915",
   "metadata": {},
   "outputs": [],
   "source": [
    "13. Why is memory management important in python?"
   ]
  },
  {
   "cell_type": "code",
   "execution_count": null,
   "id": "687b4b74-2429-4e0e-9075-fc3da59ccd26",
   "metadata": {},
   "outputs": [],
   "source": [
    "Memory management is important in Python to ensure efficient use of memory, prevent memory leaks, and keep programs running smoothly and fast."
   ]
  },
  {
   "cell_type": "code",
   "execution_count": null,
   "id": "e470e826-31dd-42f0-82a4-f51266d456b1",
   "metadata": {},
   "outputs": [],
   "source": [
    "14. What is the role of try and except inn expection handling?"
   ]
  },
  {
   "cell_type": "code",
   "execution_count": null,
   "id": "7953e6db-995f-40cd-a6c2-7a1bc911d4d9",
   "metadata": {},
   "outputs": [],
   "source": [
    "The try block contains code that might raise an exception. The except block handles the error, allowing the program to continue running instead of \n",
    "crashing."
   ]
  },
  {
   "cell_type": "code",
   "execution_count": null,
   "id": "7dd19aaa-ae0c-418c-9526-2e3def0a5970",
   "metadata": {},
   "outputs": [],
   "source": [
    "15. How does python's garbage collection system work?"
   ]
  },
  {
   "cell_type": "code",
   "execution_count": null,
   "id": "a3217035-f21e-4190-953a-e3d6737456a5",
   "metadata": {},
   "outputs": [],
   "source": [
    "Python's garbage collection system automatically frees up unused memory by removing objects with no references. It uses reference counting and a cyclic garbage collector to detect and clean up unused objects.\n"
   ]
  },
  {
   "cell_type": "code",
   "execution_count": null,
   "id": "c4c24f95-5479-44a5-9808-90762bc611c7",
   "metadata": {},
   "outputs": [],
   "source": [
    "16. What is the purpose of the else block in expectation handling?"
   ]
  },
  {
   "cell_type": "code",
   "execution_count": null,
   "id": "d0a666f2-086c-433f-ba57-a888f1d030b8",
   "metadata": {},
   "outputs": [],
   "source": [
    "The else block in exception handling runs if no exceptions occur in the try block. It is used for code that should only run when the try block succeeds."
   ]
  },
  {
   "cell_type": "code",
   "execution_count": null,
   "id": "149b7d03-9506-48e6-8c9d-f5552a1fafbc",
   "metadata": {},
   "outputs": [],
   "source": [
    "17. What are the comman logging levels in python?"
   ]
  },
  {
   "cell_type": "code",
   "execution_count": null,
   "id": "1b1017cc-b351-4b26-b32f-0d200681569a",
   "metadata": {},
   "outputs": [],
   "source": [
    "The common logging levels in Python are:\n",
    "\n",
    "DEBUG – Detailed information, for debugging.\n",
    "\n",
    "INFO – General information about program execution.\n",
    "\n",
    "WARNING – Indicates a potential problem.\n",
    "\n",
    "ERROR – A serious problem that caused an error.\n",
    "\n",
    "CRITICAL – A severe error, program may not continue.\n"
   ]
  },
  {
   "cell_type": "code",
   "execution_count": null,
   "id": "173e35b4-0375-4cfa-9676-3d6ffb2a54d2",
   "metadata": {},
   "outputs": [],
   "source": [
    "18. What is the difference between os.fork () and multiprocessing in python?"
   ]
  },
  {
   "cell_type": "code",
   "execution_count": null,
   "id": "a22d00b1-d5c3-45eb-b490-2ed7d831eee2",
   "metadata": {},
   "outputs": [],
   "source": [
    "`os.fork()` creates a new child process by duplicating the current process (Unix only).\n",
    "`multiprocessing` is a cross-platform module that creates separate processes with better control and works on both Windows and Unix.\n"
   ]
  },
  {
   "cell_type": "code",
   "execution_count": null,
   "id": "9bd6b78f-4747-4e75-9102-700812f51ede",
   "metadata": {},
   "outputs": [],
   "source": [
    "19. What is the important of closing a file in python?"
   ]
  },
  {
   "cell_type": "code",
   "execution_count": null,
   "id": "42d1c506-0299-46af-981a-6d1beb278d2b",
   "metadata": {},
   "outputs": [],
   "source": [
    "Closing a file in Python is important to free system resources, save changes properly, and avoid data corruption or memory leaks.\n"
   ]
  },
  {
   "cell_type": "code",
   "execution_count": null,
   "id": "00643478-f2c4-4f5c-bf9b-b1b5f2f5c985",
   "metadata": {},
   "outputs": [],
   "source": [
    "20. What is the difference between file.read() and file.reading () in python?"
   ]
  },
  {
   "cell_type": "code",
   "execution_count": null,
   "id": "0206a8a8-337a-44af-b249-b374baae87c4",
   "metadata": {},
   "outputs": [],
   "source": [
    "In Python, `file.read()` is a valid method used to read the contents of a file.\n",
    "`file.reading()` is **not a valid method** and will cause an error.\n"
   ]
  },
  {
   "cell_type": "code",
   "execution_count": null,
   "id": "d7420d61-541b-4c4e-9651-4cc05e3f072b",
   "metadata": {},
   "outputs": [],
   "source": [
    "21. What is the logging moudle in python used for?"
   ]
  },
  {
   "cell_type": "code",
   "execution_count": null,
   "id": "ac0d2eef-3a07-42ba-8484-ede990af1e87",
   "metadata": {},
   "outputs": [],
   "source": [
    "The `logging` module in Python is used to record messages for debugging, error tracking, and monitoring the execution of a program.\n"
   ]
  },
  {
   "cell_type": "code",
   "execution_count": null,
   "id": "7dbe9131-9cfa-4388-98f6-406e0a40c651",
   "metadata": {},
   "outputs": [],
   "source": [
    "22. What is the os moudule in python used for in file hanging?"
   ]
  },
  {
   "cell_type": "code",
   "execution_count": null,
   "id": "005e0315-b273-4ea9-a366-d3cbcfc9c7bd",
   "metadata": {},
   "outputs": [],
   "source": [
    "The `os` module in Python is used for file handling tasks like creating, deleting, renaming, and navigating files and directories.\n"
   ]
  },
  {
   "cell_type": "code",
   "execution_count": null,
   "id": "cc753a07-a477-43d6-8c6a-195834b9f960",
   "metadata": {},
   "outputs": [],
   "source": [
    "23.What are the challanges associated with memory managment in python?"
   ]
  },
  {
   "cell_type": "code",
   "execution_count": null,
   "id": "24db5aa6-5a8e-40c7-9305-5aea728f4d55",
   "metadata": {},
   "outputs": [],
   "source": [
    "Challenges with memory management in Python include:\n",
    "\n",
    "* **Memory leaks** from lingering references.\n",
    "* **High memory usage** in large applications.\n",
    "* **Circular references** that delay garbage collection.\n",
    "* **Managing memory manually** in performance-critical code.\n"
   ]
  },
  {
   "cell_type": "code",
   "execution_count": null,
   "id": "e2dad8b4-302e-4f3d-b18d-d23446907544",
   "metadata": {},
   "outputs": [],
   "source": [
    "24.How do you raise an expection manually in python?"
   ]
  },
  {
   "cell_type": "code",
   "execution_count": null,
   "id": "c099544a-531d-4bc1-8c51-9cf5baaf2de4",
   "metadata": {},
   "outputs": [],
   "source": [
    "You raise an exception manually using the `raise` keyword, for example:\n",
    "\n",
    "```python\n",
    "raise ValueError(\"Invalid value provided\")\n",
    "```\n"
   ]
  },
  {
   "cell_type": "code",
   "execution_count": null,
   "id": "04981a48-591f-4290-9a2a-aa0ad87958cb",
   "metadata": {},
   "outputs": [],
   "source": [
    "25.Why is it important toi use multithreading in certain application?"
   ]
  },
  {
   "cell_type": "code",
   "execution_count": null,
   "id": "60dfe29f-563c-47f1-b110-3ec8e968a485",
   "metadata": {},
   "outputs": [],
   "source": [
    "Multithreading is important in certain applications to:\n",
    "\n",
    "* **Improve performance** by running tasks concurrently.\n",
    "* **Handle I/O-bound tasks efficiently**, like file or network operations.\n",
    "* **Keep applications responsive**, such as in GUIs or servers.\n"
   ]
  },
  {
   "cell_type": "raw",
   "id": "464b26d3-404a-47dc-a525-c4e90a7360ea",
   "metadata": {},
   "source": [
    "                                                        PRACTICAL QUESTION"
   ]
  },
  {
   "cell_type": "code",
   "execution_count": null,
   "id": "0cbebc2c-0c2e-4603-8699-7eea9a969c84",
   "metadata": {},
   "outputs": [],
   "source": [
    "01. How can you open a file for writing in python and write a string to it?"
   ]
  },
  {
   "cell_type": "markdown",
   "id": "7d01f2d8-df72-4aed-93bf-ea530cbe8d07",
   "metadata": {},
   "source": [
    "You can open a file for writing using the `open()` function with mode `'w'`, and use `write()` to add text.\n",
    "\n",
    "**Example:**\n",
    "\n",
    "```python\n",
    "with open('file.txt', 'w') as f:\n",
    "    f.write('Hello, world!')\n",
    "```\n"
   ]
  },
  {
   "cell_type": "code",
   "execution_count": null,
   "id": "51ee63d9-e090-49a6-b422-5e0fc11d1ee7",
   "metadata": {},
   "outputs": [],
   "source": [
    "02. Write a python program to read the contents of a file and print each line."
   ]
  },
  {
   "cell_type": "code",
   "execution_count": null,
   "id": "31e7e960-1c44-48a6-b442-cacd85dc141c",
   "metadata": {},
   "outputs": [],
   "source": [
    "```python\n",
    "with open('file.txt', 'r') as f:\n",
    "    for line in f:\n",
    "        print(line.strip())\n",
    "```\n"
   ]
  },
  {
   "cell_type": "code",
   "execution_count": null,
   "id": "9fce4ce4-d49b-479a-a774-ceebfcd21778",
   "metadata": {},
   "outputs": [],
   "source": [
    "03. How would you handel a case where the file doesn't exist while trying to open for read it?"
   ]
  },
  {
   "cell_type": "code",
   "execution_count": null,
   "id": "7d9aea5f-f4c4-43ed-9ae3-bc66cbbf76e5",
   "metadata": {},
   "outputs": [],
   "source": [
    "try:\n",
    "    with open('file.txt', 'r') as f:\n",
    "        print(f.read())\n",
    "except FileNotFoundError:\n",
    "    print(\"File not found.\")\n"
   ]
  },
  {
   "cell_type": "code",
   "execution_count": null,
   "id": "5562fef2-6f94-4bfb-9af7-0c8aa52e66b4",
   "metadata": {},
   "outputs": [],
   "source": [
    "04.Write a python script that reads from one writes its content to another file."
   ]
  },
  {
   "cell_type": "code",
   "execution_count": null,
   "id": "214b0c2a-bfa7-4bd1-bcfd-4658142addfe",
   "metadata": {},
   "outputs": [],
   "source": [
    "with open('source.txt', 'r') as src, open('destination.txt', 'w') as dst:\n",
    "    for line in src:\n",
    "        dst.write(line)\n"
   ]
  },
  {
   "cell_type": "code",
   "execution_count": null,
   "id": "945c6b7c-3e44-4e3f-b1b5-d893f9d6c872",
   "metadata": {},
   "outputs": [],
   "source": [
    "05. How would you catch and handle division by zero error in Python?"
   ]
  },
  {
   "cell_type": "code",
   "execution_count": null,
   "id": "e89af714-d96e-4aa4-b567-ac89700b8930",
   "metadata": {},
   "outputs": [],
   "source": [
    "try:\n",
    "    result = 10 / 0\n",
    "except ZeroDivisionError:\n",
    "    print(\"Cannot divide by zero.\")\n"
   ]
  },
  {
   "cell_type": "code",
   "execution_count": null,
   "id": "1220b7bf-17c6-4780-a475-dc55cd8515c9",
   "metadata": {},
   "outputs": [],
   "source": [
    "06. Write a Python program that logs an error message to a log file when a division by zero exception occurs."
   ]
  },
  {
   "cell_type": "code",
   "execution_count": null,
   "id": "8e899dfe-bac3-4e5a-8fff-e5764d619177",
   "metadata": {},
   "outputs": [],
   "source": [
    "import logging\n",
    "\n",
    "logging.basicConfig(filename='error.log', level=logging.ERROR)\n",
    "\n",
    "try:\n",
    "    result = 10 / 0\n",
    "except ZeroDivisionError as e:\n",
    "    logging.error(f\"Error occurred: {e}\")\n"
   ]
  },
  {
   "cell_type": "code",
   "execution_count": null,
   "id": "67946e19-7f26-4aec-8b66-e2d0d0f78250",
   "metadata": {},
   "outputs": [],
   "source": [
    "07.How do you log information at different levels (INFO, ERROR, WARNING) in Python using the logging modules?"
   ]
  },
  {
   "cell_type": "code",
   "execution_count": null,
   "id": "b4d5a61e-874f-4920-b2b6-4bbc6cca8007",
   "metadata": {},
   "outputs": [],
   "source": [
    "import logging\n",
    "\n",
    "logging.basicConfig(level=logging.DEBUG)\n",
    "\n",
    "logging.info(\"This is an info message\")\n",
    "logging.warning(\"This is a warning message\")\n",
    "logging.error(\"This is an error message\")"
   ]
  },
  {
   "cell_type": "code",
   "execution_count": null,
   "id": "f4d5e5a7-7290-4165-a1b9-a666c239f0fc",
   "metadata": {},
   "outputs": [],
   "source": [
    "08. Write a program to handle a file opening error using exception handling.\n"
   ]
  },
  {
   "cell_type": "code",
   "execution_count": null,
   "id": "2288a164-64c0-4284-a574-47b9eba65024",
   "metadata": {},
   "outputs": [],
   "source": [
    "try:\n",
    "    with open('nonexistent.txt', 'r') as f:\n",
    "        content = f.read()\n",
    "except FileNotFoundError:\n",
    "    print(\"File not found.\")\n"
   ]
  },
  {
   "cell_type": "code",
   "execution_count": null,
   "id": "19d56a44-20ba-4373-b6ac-9175928907ff",
   "metadata": {},
   "outputs": [],
   "source": [
    "09. How can you read a file line by line and store its content in a list in Python?"
   ]
  },
  {
   "cell_type": "code",
   "execution_count": null,
   "id": "d0a67c98-2ed0-4201-bf59-897c72b4268d",
   "metadata": {},
   "outputs": [],
   "source": [
    "with open('file.txt', 'r') as f:\n",
    "    lines = f.readlines()\n"
   ]
  },
  {
   "cell_type": "code",
   "execution_count": null,
   "id": "2479e92c-e86d-44ae-ae7b-97af3de22c98",
   "metadata": {},
   "outputs": [],
   "source": [
    "10. How can you append data to an existing file in Python?"
   ]
  },
  {
   "cell_type": "code",
   "execution_count": null,
   "id": "333bb080-b70b-4816-a84f-087613373f2c",
   "metadata": {},
   "outputs": [],
   "source": [
    "with open('file.txt', 'a') as f:\n",
    "    f.write('New line of text\\n')\n"
   ]
  },
  {
   "cell_type": "code",
   "execution_count": null,
   "id": "d6c207fd-e36c-4cf6-b78d-2adf56c94a41",
   "metadata": {},
   "outputs": [],
   "source": [
    "11. Write a Python program that uses a try-except block to handle an error when attempting to access a dictionary key that doesn't exist."
   ]
  },
  {
   "cell_type": "code",
   "execution_count": null,
   "id": "7827e0cc-0520-4670-b9eb-357103d6942a",
   "metadata": {},
   "outputs": [],
   "source": [
    "my_dict = {\"name\": \"Alice\"}\n",
    "\n",
    "try:\n",
    "    print(my_dict[\"age\"])\n",
    "except KeyError:\n",
    "    print(\"Key not found in dictionary.\")\n"
   ]
  },
  {
   "cell_type": "code",
   "execution_count": null,
   "id": "07498277-3ea5-4272-b4d3-54ee17478aec",
   "metadata": {},
   "outputs": [],
   "source": [
    "12. Write a program that demonstrates using multiple except blocks to handle different types of exceptions."
   ]
  },
  {
   "cell_type": "code",
   "execution_count": null,
   "id": "145fa60a-5da4-4a83-a4e6-dfcb145df2a8",
   "metadata": {},
   "outputs": [],
   "source": [
    "try:\n",
    "    x = int(\"abc\")\n",
    "    y = 10 / 0\n",
    "except ValueError:\n",
    "    print(\"ValueError: Invalid conversion.\")\n",
    "except ZeroDivisionError:\n",
    "    print(\"ZeroDivisionError: Cannot divide by zero.\")\n"
   ]
  },
  {
   "cell_type": "code",
   "execution_count": null,
   "id": "dc330297-fb62-4409-8e1c-125a3b5701a9",
   "metadata": {},
   "outputs": [],
   "source": [
    "13.How would you check if a file exists before attempting to read it in Python?"
   ]
  },
  {
   "cell_type": "code",
   "execution_count": null,
   "id": "7d658316-bff1-40f0-91a6-9d29e4f63d8e",
   "metadata": {},
   "outputs": [],
   "source": [
    "import os\n",
    "\n",
    "if os.path.exists('file.txt'):\n",
    "    with open('file.txt', 'r') as f:\n",
    "        print(f.read())\n",
    "else:\n",
    "    print(\"File does not exist.\")\n"
   ]
  },
  {
   "cell_type": "code",
   "execution_count": null,
   "id": "a32c901c-0e00-414e-947a-3c0b38ffcd28",
   "metadata": {},
   "outputs": [],
   "source": [
    "14. Write a program that uses the logging module to log both informational and error messages."
   ]
  },
  {
   "cell_type": "code",
   "execution_count": null,
   "id": "18b111f7-aec4-4502-a864-c346242960b2",
   "metadata": {},
   "outputs": [],
   "source": [
    "import logging\n",
    "\n",
    "logging.basicConfig(filename='app.log', level=logging.INFO)\n",
    "\n",
    "logging.info(\"Program started\")\n",
    "try:\n",
    "    result = 10 / 0\n",
    "except ZeroDivisionError as e:\n",
    "    logging.error(f\"Error occurred: {e}\")\n"
   ]
  },
  {
   "cell_type": "code",
   "execution_count": null,
   "id": "fbb53f46-fe7b-4e54-8e22-813ebd9b944b",
   "metadata": {},
   "outputs": [],
   "source": [
    "15. Write a Python program that prints the content of a file and handles the case when the file is empty."
   ]
  },
  {
   "cell_type": "code",
   "execution_count": null,
   "id": "c62f60ed-4131-4d26-8a82-363f0b369f28",
   "metadata": {},
   "outputs": [],
   "source": [
    "try:\n",
    "    with open('file.txt', 'r') as f:\n",
    "        content = f.read()\n",
    "        if content:\n",
    "            print(content)\n",
    "        else:\n",
    "            print(\"The file is empty.\")\n",
    "except FileNotFoundError:\n",
    "    print(\"File not found.\")\n"
   ]
  },
  {
   "cell_type": "code",
   "execution_count": null,
   "id": "0fd45944-d35d-48ef-9459-bc2f82212c2c",
   "metadata": {},
   "outputs": [],
   "source": [
    "16. Demonstrate how to use memory profiling to check the memory usage of a small program."
   ]
  },
  {
   "cell_type": "code",
   "execution_count": null,
   "id": "dddce57e-8af9-466d-b15a-f4fe0bdf6762",
   "metadata": {},
   "outputs": [],
   "source": [
    "To check memory usage in Python, use the `memory_profiler` module:\n",
    "\n",
    "1. **Install** it:\n",
    "\n",
    "```bash\n",
    "pip install memory-profiler\n",
    "```\n",
    "\n",
    "2. **Use** it in your code:\n",
    "\n",
    "```python\n",
    "from memory_profiler import profile\n",
    "\n",
    "@profile\n",
    "def test():\n",
    "    a = [i for i in range(100000)]\n",
    "\n",
    "test()\n",
    "```\n",
    "\n",
    "3. **Run** with:\n",
    "\n",
    "```bash\n",
    "python -m memory_profiler script.py\n",
    "```\n",
    "\n",
    "It shows memory used line by line.\n"
   ]
  },
  {
   "cell_type": "code",
   "execution_count": null,
   "id": "258c447d-5467-4fad-bf18-0c9e1215dce1",
   "metadata": {},
   "outputs": [],
   "source": [
    "17. Write a Python program to create and write a list of numbers to a file, one number per line."
   ]
  },
  {
   "cell_type": "code",
   "execution_count": null,
   "id": "dafea2e1-98ec-4878-8336-ea72e11c5a49",
   "metadata": {},
   "outputs": [],
   "source": [
    "numbers = [1, 2, 3, 4, 5]\n",
    "\n",
    "with open('numbers.txt', 'w') as f:\n",
    "    for num in numbers:\n",
    "        f.write(f\"{num}\\n\")\n"
   ]
  },
  {
   "cell_type": "code",
   "execution_count": null,
   "id": "ad4f8e1a-ebac-4d0c-9849-f0088a261ee6",
   "metadata": {},
   "outputs": [],
   "source": [
    "18. How would you implement a basic logging setup that logs to a file with rotation after 1Mb?"
   ]
  },
  {
   "cell_type": "code",
   "execution_count": null,
   "id": "cc1f14f4-249b-4dac-9a0d-ae8e609d61f2",
   "metadata": {},
   "outputs": [],
   "source": [
    "To implement basic logging with file rotation after 1MB, use `RotatingFileHandler` from the `logging` module:\n",
    "\n",
    "```python\n",
    "import logging\n",
    "from logging.handlers import RotatingFileHandler\n",
    "\n",
    "# Set up rotating log\n",
    "handler = RotatingFileHandler('app.log', maxBytes=1_000_000, backupCount=3)\n",
    "logging.basicConfig(level=logging.INFO, handlers=[handler])\n",
    "\n",
    "# Example log\n",
    "logging.info(\"This is an info message.\")\n",
    "```\n",
    "\n",
    "* `maxBytes=1_000_000` sets the file size limit to 1MB.\n",
    "* `backupCount=3` keeps up to 3 old log files (e.g., `app.log.1`, `app.log.2`).\n"
   ]
  },
  {
   "cell_type": "code",
   "execution_count": null,
   "id": "4f30a5f4-7b26-4805-95ed-73dfd5cc47d1",
   "metadata": {},
   "outputs": [],
   "source": [
    "19. Write a program that handles both IndexError and KeyError using a try-except block."
   ]
  },
  {
   "cell_type": "code",
   "execution_count": null,
   "id": "73abb819-5313-49b4-a544-d93e53cd6de1",
   "metadata": {},
   "outputs": [],
   "source": [
    "my_list = [1, 2, 3]\n",
    "my_dict = {\"a\": 10}\n",
    "\n",
    "try:\n",
    "    print(my_list[5])\n",
    "    print(my_dict[\"b\"])\n",
    "except IndexError:\n",
    "    print(\"IndexError: List index out of range.\")\n",
    "except KeyError:\n",
    "    print(\"KeyError: Key not found in dictionary.\")\n"
   ]
  },
  {
   "cell_type": "code",
   "execution_count": null,
   "id": "5506d2db-6859-4ab7-8d89-6a86c9f25d15",
   "metadata": {},
   "outputs": [],
   "source": [
    "20. How would you open a file and read its contents using a context manager in Python?"
   ]
  },
  {
   "cell_type": "code",
   "execution_count": null,
   "id": "82a19a2a-c8c6-42c4-b5bf-9a13e06d8231",
   "metadata": {},
   "outputs": [],
   "source": [
    "with open('file.txt', 'r') as f:\n",
    "    content = f.read()\n",
    "    print(content)\n"
   ]
  },
  {
   "cell_type": "code",
   "execution_count": null,
   "id": "a987e92e-3e44-464c-b937-14992b66f06f",
   "metadata": {},
   "outputs": [],
   "source": [
    "21. Write a Python program that reads a file and prints the number of occurrences of a specific word."
   ]
  },
  {
   "cell_type": "code",
   "execution_count": null,
   "id": "2d87bb31-082e-4574-bc88-ce508397ec98",
   "metadata": {},
   "outputs": [],
   "source": [
    "word_to_find = \"python\"\n",
    "\n",
    "with open('file.txt', 'r') as f:\n",
    "    content = f.read()\n",
    "    count = content.lower().count(word_to_find.lower())\n",
    "    print(f\"'{word_to_find}' occurs {count} times.\")\n"
   ]
  },
  {
   "cell_type": "code",
   "execution_count": null,
   "id": "04825cdc-a698-4553-9378-e88fb27b0943",
   "metadata": {},
   "outputs": [],
   "source": [
    "22. How can you check if a file is empty before attempting to read its contents?"
   ]
  },
  {
   "cell_type": "code",
   "execution_count": null,
   "id": "1297008c-370d-406d-ad07-214ad45d6577",
   "metadata": {},
   "outputs": [],
   "source": [
    "import os\n",
    "\n",
    "if os.path.getsize('file.txt') == 0:\n",
    "    print(\"The file is empty.\")\n",
    "else:\n",
    "    with open('file.txt', 'r') as f:\n",
    "        print(f.read())\n"
   ]
  },
  {
   "cell_type": "code",
   "execution_count": null,
   "id": "8ba30aaa-a32e-4e11-a61f-557f092110bb",
   "metadata": {},
   "outputs": [],
   "source": [
    "23. Write a Python program that writes to a log file when an error occurs during file handling.\n"
   ]
  },
  {
   "cell_type": "code",
   "execution_count": null,
   "id": "9f4732a0-17cb-4568-80b2-1b5479156aa8",
   "metadata": {},
   "outputs": [],
   "source": []
  }
 ],
 "metadata": {
  "kernelspec": {
   "display_name": "Python 3 (ipykernel)",
   "language": "python",
   "name": "python3"
  },
  "language_info": {
   "codemirror_mode": {
    "name": "ipython",
    "version": 3
   },
   "file_extension": ".py",
   "mimetype": "text/x-python",
   "name": "python",
   "nbconvert_exporter": "python",
   "pygments_lexer": "ipython3",
   "version": "3.12.7"
  }
 },
 "nbformat": 4,
 "nbformat_minor": 5
}
